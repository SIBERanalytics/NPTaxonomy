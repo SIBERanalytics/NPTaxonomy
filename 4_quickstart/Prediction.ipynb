{
 "cells": [
  {
   "cell_type": "code",
   "execution_count": 1,
   "id": "e0128c4b-c955-4c11-8d0b-cb38f087c9ac",
   "metadata": {},
   "outputs": [],
   "source": [
    "# Import necessary packages\n",
    "import pandas as pd\n",
    "import pickle\n",
    "import chemprop"
   ]
  },
  {
   "cell_type": "code",
   "execution_count": 2,
   "id": "95ee66be-f062-4fb5-9486-1ba43e614493",
   "metadata": {},
   "outputs": [
    {
     "name": "stdout",
     "output_type": "stream",
     "text": [
      "Loading training args\n",
      "Setting molecule featurization parameters to default.\n",
      "Loading data\n"
     ]
    },
    {
     "name": "stderr",
     "output_type": "stream",
     "text": [
      "9it [00:00, 97794.65it/s]\n",
      "100%|██████████████████████████████████████████████████████████████████████████████████| 9/9 [00:00<00:00, 91401.30it/s]\n"
     ]
    },
    {
     "name": "stdout",
     "output_type": "stream",
     "text": [
      "Validating SMILES\n",
      "Test size = 9\n",
      "Encoding smiles into a fingerprint vector from 1 models.\n"
     ]
    },
    {
     "name": "stderr",
     "output_type": "stream",
     "text": [
      "  0%|                                                                                             | 0/1 [00:00<?, ?it/s]"
     ]
    },
    {
     "name": "stdout",
     "output_type": "stream",
     "text": [
      "Loading pretrained parameter \"encoder.encoder.0.cached_zero_vector\".\n",
      "Loading pretrained parameter \"encoder.encoder.0.W_i.weight\".\n",
      "Loading pretrained parameter \"encoder.encoder.0.W_h.weight\".\n",
      "Loading pretrained parameter \"encoder.encoder.0.W_o.weight\".\n",
      "Loading pretrained parameter \"encoder.encoder.0.W_o.bias\".\n",
      "Loading pretrained parameter \"ffn.1.weight\".\n",
      "Loading pretrained parameter \"ffn.1.bias\".\n",
      "Loading pretrained parameter \"ffn.4.weight\".\n",
      "Loading pretrained parameter \"ffn.4.bias\".\n",
      "Loading pretrained parameter \"ffn.7.weight\".\n",
      "Loading pretrained parameter \"ffn.7.bias\".\n",
      "Moving model to cuda\n"
     ]
    },
    {
     "name": "stderr",
     "output_type": "stream",
     "text": [
      "\n",
      "  0%|                                                                                             | 0/1 [00:00<?, ?it/s]\u001b[A\n",
      "100%|█████████████████████████████████████████████████████████████████████████████████████| 1/1 [00:03<00:00,  3.27s/it]\u001b[A\n",
      "100%|█████████████████████████████████████████████████████████████████████████████████████| 1/1 [00:04<00:00,  4.72s/it]\u001b[A"
     ]
    },
    {
     "name": "stdout",
     "output_type": "stream",
     "text": [
      "Saving predictions to test_data_last_FFN.csv\n",
      "Elapsed time = 0:00:05\n"
     ]
    },
    {
     "name": "stderr",
     "output_type": "stream",
     "text": [
      "\n"
     ]
    }
   ],
   "source": [
    "# last_FFN fingerprints of input SMILES\n",
    "arguments = [\n",
    "    '--test_path', 'test_data.csv',\n",
    "    '--preds_path', 'test_data_last_FFN.csv',\n",
    "    '--checkpoint_dir', 'results',\n",
    "    '--fingerprint_type', 'last_FFN']\n",
    "args = chemprop.args.FingerprintArgs().parse_args(arguments)\n",
    "test_last_FFN  = chemprop.train.molecule_fingerprint.molecule_fingerprint(args=args)"
   ]
  },
  {
   "cell_type": "code",
   "execution_count": 3,
   "id": "73344eef-2db0-41d7-ae96-f01997d75d1c",
   "metadata": {},
   "outputs": [],
   "source": [
    "# load last_FFN molecular fingerprints of input SMILES\n",
    "test_last_FFN = pd.read_csv('test_data_last_FFN.csv')\n",
    "test_last_FFN_fp = test_last_FFN.iloc[:,1:] "
   ]
  },
  {
   "cell_type": "code",
   "execution_count": 7,
   "id": "b946b0b7-1574-45ca-9abe-03d5f543e86f",
   "metadata": {},
   "outputs": [
    {
     "name": "stderr",
     "output_type": "stream",
     "text": [
      "/home/dillon/miniforge3/envs/chemenv/lib/python3.8/site-packages/sklearn/base.py:348: InconsistentVersionWarning: Trying to unpickle estimator SVC from version 1.2.0 when using version 1.3.2. This might lead to breaking code or invalid results. Use at your own risk. For more info please refer to:\n",
      "https://scikit-learn.org/stable/model_persistence.html#security-maintainability-limitations\n",
      "  warnings.warn(\n"
     ]
    }
   ],
   "source": [
    "# load pre-trained composite models\n",
    "model_SVM_last_FFN = pickle.load(open('model_SVM_last_FFN.pkl', 'rb'))\n",
    "model_LGBM_last_FFN = pickle.load(open('model_LGBM_last_FFN.pkl','rb'))\n",
    "model_XGB_last_FFN = pickle.load(open('model_XGB_last_FFN.pkl','rb'))"
   ]
  },
  {
   "cell_type": "code",
   "execution_count": 9,
   "id": "fcfd46b6-e6d6-4fac-9a1a-54c232c91c32",
   "metadata": {},
   "outputs": [],
   "source": [
    "# Prediction\n",
    "pred_SVM_last_FFN = model_SVM_last_FFN.predict(test_last_FFN_fp)\n",
    "pred_LGBM_last_FFN = model_LGBM_last_FFN.predict(test_last_FFN_fp)\n",
    "pred_XGB_last_FFN = model_XGB_last_FFN.predict(test_last_FFN_fp)"
   ]
  },
  {
   "cell_type": "code",
   "execution_count": 10,
   "id": "9c22626d-aeff-4fb0-8d78-fbb824d299f1",
   "metadata": {},
   "outputs": [
    {
     "name": "stdout",
     "output_type": "stream",
     "text": [
      "[3 1 3 1 3 3 1 3 3]\n",
      "[3 1 3 0 3 3 1 3 3]\n",
      "[3 1 3 0 3 3 1 3 3]\n"
     ]
    }
   ],
   "source": [
    "# predicted kingdoms: [animal, bacteria, chromista, fungi, plant] = [0,1,2,3,4]\n",
    "print(pred_SVM_last_FFN)\n",
    "print(pred_LGBM_last_FFN)\n",
    "print(pred_XGB_last_FFN)"
   ]
  },
  {
   "cell_type": "code",
   "execution_count": 11,
   "id": "b8303795-1f91-409d-96c1-01cbfd8ae946",
   "metadata": {},
   "outputs": [],
   "source": [
    "# export predictions\n",
    "test_data = pd.read_csv('test_data.csv')\n",
    "test_data['SVM_predictions'] = pred_SVM_last_FFN\n",
    "test_data['LGBM_predictions'] = pred_LGBM_last_FFN\n",
    "test_data['XGB_predictions'] = pred_XGB_last_FFN\n",
    "test_data.to_csv('test_data_preds.csv')"
   ]
  },
  {
   "cell_type": "code",
   "execution_count": 12,
   "id": "ee6233cf-0985-4536-8323-8d46c319a518",
   "metadata": {},
   "outputs": [
    {
     "data": {
      "text/html": [
       "<div>\n",
       "<style scoped>\n",
       "    .dataframe tbody tr th:only-of-type {\n",
       "        vertical-align: middle;\n",
       "    }\n",
       "\n",
       "    .dataframe tbody tr th {\n",
       "        vertical-align: top;\n",
       "    }\n",
       "\n",
       "    .dataframe thead th {\n",
       "        text-align: right;\n",
       "    }\n",
       "</style>\n",
       "<table border=\"1\" class=\"dataframe\">\n",
       "  <thead>\n",
       "    <tr style=\"text-align: right;\">\n",
       "      <th></th>\n",
       "      <th>smiles</th>\n",
       "      <th>SVM_predictions</th>\n",
       "      <th>LGBM_predictions</th>\n",
       "      <th>XGB_predictions</th>\n",
       "    </tr>\n",
       "  </thead>\n",
       "  <tbody>\n",
       "    <tr>\n",
       "      <th>0</th>\n",
       "      <td>CCC(O)CC(C)C(O)C(C)(C=CC(=O)NC(CO)C(C)CC)OC</td>\n",
       "      <td>3</td>\n",
       "      <td>3</td>\n",
       "      <td>3</td>\n",
       "    </tr>\n",
       "    <tr>\n",
       "      <th>1</th>\n",
       "      <td>COC1C(C(OC2OC(C(=O)O)=CC(O)C2O)C(N)=O)OC(n2ccc...</td>\n",
       "      <td>1</td>\n",
       "      <td>1</td>\n",
       "      <td>1</td>\n",
       "    </tr>\n",
       "    <tr>\n",
       "      <th>2</th>\n",
       "      <td>CC(=O)NC(Cc1ccc(OCC=C(C)C)cc1)C(=O)O</td>\n",
       "      <td>3</td>\n",
       "      <td>3</td>\n",
       "      <td>3</td>\n",
       "    </tr>\n",
       "    <tr>\n",
       "      <th>3</th>\n",
       "      <td>CCCCCCCCCCCCCC=CCCC=C(C)C(=O)NCCOC(C)=O</td>\n",
       "      <td>1</td>\n",
       "      <td>0</td>\n",
       "      <td>0</td>\n",
       "    </tr>\n",
       "    <tr>\n",
       "      <th>4</th>\n",
       "      <td>CC(C)CC1NC(=O)C(C(C)C)OC(=O)C(Cc2ccccc2)N(C)C(...</td>\n",
       "      <td>3</td>\n",
       "      <td>3</td>\n",
       "      <td>3</td>\n",
       "    </tr>\n",
       "    <tr>\n",
       "      <th>5</th>\n",
       "      <td>CCCc1ccc(O)c(O)c1C(=O)NOC</td>\n",
       "      <td>3</td>\n",
       "      <td>3</td>\n",
       "      <td>3</td>\n",
       "    </tr>\n",
       "    <tr>\n",
       "      <th>6</th>\n",
       "      <td>CC(C)C=CC=CC(=O)NC1=CC(O)(CCC(N)=O)C=CC1=O</td>\n",
       "      <td>1</td>\n",
       "      <td>1</td>\n",
       "      <td>1</td>\n",
       "    </tr>\n",
       "    <tr>\n",
       "      <th>7</th>\n",
       "      <td>CC(C)CC1NC(=O)C2CC(O)CN2C1=O</td>\n",
       "      <td>3</td>\n",
       "      <td>3</td>\n",
       "      <td>3</td>\n",
       "    </tr>\n",
       "    <tr>\n",
       "      <th>8</th>\n",
       "      <td>CC1=CC2C(O)CC34CC(O)(Cc5ccc(cc5)OC5C(C2C3=O)C1...</td>\n",
       "      <td>3</td>\n",
       "      <td>3</td>\n",
       "      <td>3</td>\n",
       "    </tr>\n",
       "  </tbody>\n",
       "</table>\n",
       "</div>"
      ],
      "text/plain": [
       "                                              smiles  SVM_predictions  \\\n",
       "0        CCC(O)CC(C)C(O)C(C)(C=CC(=O)NC(CO)C(C)CC)OC                3   \n",
       "1  COC1C(C(OC2OC(C(=O)O)=CC(O)C2O)C(N)=O)OC(n2ccc...                1   \n",
       "2               CC(=O)NC(Cc1ccc(OCC=C(C)C)cc1)C(=O)O                3   \n",
       "3            CCCCCCCCCCCCCC=CCCC=C(C)C(=O)NCCOC(C)=O                1   \n",
       "4  CC(C)CC1NC(=O)C(C(C)C)OC(=O)C(Cc2ccccc2)N(C)C(...                3   \n",
       "5                          CCCc1ccc(O)c(O)c1C(=O)NOC                3   \n",
       "6         CC(C)C=CC=CC(=O)NC1=CC(O)(CCC(N)=O)C=CC1=O                1   \n",
       "7                       CC(C)CC1NC(=O)C2CC(O)CN2C1=O                3   \n",
       "8  CC1=CC2C(O)CC34CC(O)(Cc5ccc(cc5)OC5C(C2C3=O)C1...                3   \n",
       "\n",
       "   LGBM_predictions  XGB_predictions  \n",
       "0                 3                3  \n",
       "1                 1                1  \n",
       "2                 3                3  \n",
       "3                 0                0  \n",
       "4                 3                3  \n",
       "5                 3                3  \n",
       "6                 1                1  \n",
       "7                 3                3  \n",
       "8                 3                3  "
      ]
     },
     "execution_count": 12,
     "metadata": {},
     "output_type": "execute_result"
    }
   ],
   "source": [
    "test_data"
   ]
  },
  {
   "cell_type": "code",
   "execution_count": null,
   "id": "019d9c7e-fedc-41b2-baaa-1a0e934f3bb6",
   "metadata": {},
   "outputs": [],
   "source": []
  }
 ],
 "metadata": {
  "kernelspec": {
   "display_name": "Python 3 (ipykernel)",
   "language": "python",
   "name": "python3"
  },
  "language_info": {
   "codemirror_mode": {
    "name": "ipython",
    "version": 3
   },
   "file_extension": ".py",
   "mimetype": "text/x-python",
   "name": "python",
   "nbconvert_exporter": "python",
   "pygments_lexer": "ipython3",
   "version": "3.8.17"
  }
 },
 "nbformat": 4,
 "nbformat_minor": 5
}
