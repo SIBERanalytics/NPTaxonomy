{
 "cells": [
  {
   "cell_type": "code",
   "execution_count": 1,
   "id": "e0128c4b-c955-4c11-8d0b-cb38f087c9ac",
   "metadata": {},
   "outputs": [],
   "source": [
    "# Import necessary packages\n",
    "import pandas as pd\n",
    "from sklearn.svm import SVC\n",
    "import pickle\n",
    "import chemprop"
   ]
  },
  {
   "cell_type": "code",
   "execution_count": 2,
   "id": "95ee66be-f062-4fb5-9486-1ba43e614493",
   "metadata": {},
   "outputs": [
    {
     "name": "stdout",
     "output_type": "stream",
     "text": [
      "Loading training args\n",
      "Setting molecule featurization parameters to default.\n",
      "Loading data\n"
     ]
    },
    {
     "name": "stderr",
     "output_type": "stream",
     "text": [
      "9it [00:00, 39945.75it/s]\n",
      "100%|██████████| 9/9 [00:00<00:00, 107853.53it/s]\n"
     ]
    },
    {
     "name": "stdout",
     "output_type": "stream",
     "text": [
      "Validating SMILES\n",
      "Test size = 9\n",
      "Encoding smiles into a fingerprint vector from 1 models.\n"
     ]
    },
    {
     "name": "stderr",
     "output_type": "stream",
     "text": [
      "  0%|          | 0/1 [00:00<?, ?it/s]"
     ]
    },
    {
     "name": "stdout",
     "output_type": "stream",
     "text": [
      "Loading pretrained parameter \"encoder.encoder.0.cached_zero_vector\".\n",
      "Loading pretrained parameter \"encoder.encoder.0.W_i.weight\".\n",
      "Loading pretrained parameter \"encoder.encoder.0.W_h.weight\".\n",
      "Loading pretrained parameter \"encoder.encoder.0.W_o.weight\".\n",
      "Loading pretrained parameter \"encoder.encoder.0.W_o.bias\".\n",
      "Loading pretrained parameter \"ffn.1.weight\".\n",
      "Loading pretrained parameter \"ffn.1.bias\".\n",
      "Loading pretrained parameter \"ffn.4.weight\".\n",
      "Loading pretrained parameter \"ffn.4.bias\".\n",
      "Loading pretrained parameter \"ffn.7.weight\".\n",
      "Loading pretrained parameter \"ffn.7.bias\".\n"
     ]
    },
    {
     "name": "stderr",
     "output_type": "stream",
     "text": [
      "\n",
      "  0%|          | 0/1 [00:00<?, ?it/s]\u001b[A\n",
      "100%|██████████| 1/1 [00:00<00:00,  3.46it/s]\u001b[A\n",
      "100%|██████████| 1/1 [00:00<00:00,  1.87it/s]\u001b[A"
     ]
    },
    {
     "name": "stdout",
     "output_type": "stream",
     "text": [
      "Saving predictions to test_data_last_FFN.csv\n",
      "Elapsed time = 0:00:01\n"
     ]
    },
    {
     "name": "stderr",
     "output_type": "stream",
     "text": [
      "\n"
     ]
    }
   ],
   "source": [
    "# last_FFN fingerprints of input SMILES\n",
    "arguments = [\n",
    "    '--test_path', 'test_data.csv',\n",
    "    '--preds_path', 'test_data_last_FFN.csv',\n",
    "    '--checkpoint_dir', 'results',\n",
    "    '--fingerprint_type', 'last_FFN']\n",
    "args = chemprop.args.FingerprintArgs().parse_args(arguments)\n",
    "test_last_FFN  = chemprop.train.molecule_fingerprint.molecule_fingerprint(args=args)"
   ]
  },
  {
   "cell_type": "code",
   "execution_count": 3,
   "id": "73344eef-2db0-41d7-ae96-f01997d75d1c",
   "metadata": {},
   "outputs": [],
   "source": [
    "# load last_FFN molecular fingerprints of input SMILES\n",
    "test_last_FFN = pd.read_csv('test_data_last_FFN.csv')\n",
    "test_last_FFN_fp = test_last_FFN.iloc[:,1:] "
   ]
  },
  {
   "cell_type": "code",
   "execution_count": 4,
   "id": "b946b0b7-1574-45ca-9abe-03d5f543e86f",
   "metadata": {},
   "outputs": [],
   "source": [
    "# load SVM models\n",
    "model_SVM_last_FFN = pickle.load(open('model_SVM_last_FFN', 'rb'))"
   ]
  },
  {
   "cell_type": "code",
   "execution_count": 5,
   "id": "fcfd46b6-e6d6-4fac-9a1a-54c232c91c32",
   "metadata": {},
   "outputs": [],
   "source": [
    "# SVM prediction for different fingerprints\n",
    "pred_SVM_last_FFN = model_SVM_last_FFN.predict(test_last_FFN_fp)"
   ]
  },
  {
   "cell_type": "code",
   "execution_count": 6,
   "id": "9c22626d-aeff-4fb0-8d78-fbb824d299f1",
   "metadata": {},
   "outputs": [
    {
     "data": {
      "text/plain": [
       "array([3, 1, 3, 1, 3, 3, 1, 3, 3])"
      ]
     },
     "execution_count": 6,
     "metadata": {},
     "output_type": "execute_result"
    }
   ],
   "source": [
    "# predicted kingdoms: [animal, bacteria, chromista, fungi, plant] = [0,1,2,3,4]\n",
    "pred_SVM_last_FFN"
   ]
  },
  {
   "cell_type": "code",
   "execution_count": 7,
   "id": "b8303795-1f91-409d-96c1-01cbfd8ae946",
   "metadata": {},
   "outputs": [],
   "source": [
    "# export predictions\n",
    "test_data = pd.read_csv('test_data.csv')\n",
    "test_data['predictions'] = pred_SVM_last_FFN\n",
    "test_data.to_csv('test_data_preds.csv')"
   ]
  },
  {
   "cell_type": "code",
   "execution_count": null,
   "id": "ee6233cf-0985-4536-8323-8d46c319a518",
   "metadata": {},
   "outputs": [],
   "source": []
  }
 ],
 "metadata": {
  "kernelspec": {
   "display_name": "Python 3 (ipykernel)",
   "language": "python",
   "name": "python3"
  },
  "language_info": {
   "codemirror_mode": {
    "name": "ipython",
    "version": 3
   },
   "file_extension": ".py",
   "mimetype": "text/x-python",
   "name": "python",
   "nbconvert_exporter": "python",
   "pygments_lexer": "ipython3",
   "version": "3.8.17"
  }
 },
 "nbformat": 4,
 "nbformat_minor": 5
}
